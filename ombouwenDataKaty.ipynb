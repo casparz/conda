{
 "cells": [
  {
   "cell_type": "markdown",
   "metadata": {},
   "source": [
    "Haal alle bestanden op die verwerkt moeten worden"
   ]
  },
  {
   "cell_type": "code",
   "execution_count": 12,
   "metadata": {},
   "outputs": [
    {
     "name": "stdout",
     "output_type": "stream",
     "text": [
      "['sub-01-run1-Putamen_19.txt', 'sub-01-run2-Putamen_19.txt', 'sub-01-run3-Putamen_19.txt', 'sub-02-run1-Putamen_19.txt', 'sub-02-run2-Putamen_19.txt', 'sub-02-run3-Putamen_19.txt']\n"
     ]
    }
   ],
   "source": [
    "from os import listdir\n",
    "from os.path import isfile, join\n",
    "from itertools import groupby\n",
    "import re, pathlib, pandas\n",
    "\n",
    "#folder = pathlib.Path(r'C:\\Users\\Caspar\\Documents\\Prive')\n",
    "folder = pathlib.Path.cwd()\n",
    "\n",
    "files = [f for f in sorted(listdir(folder)) if isfile(join(folder,f)) and re.match(r'sub-[0-9]{2}-run[0-9]-Putamen_19.txt',f)]\n",
    "print(files)"
   ]
  },
  {
   "cell_type": "markdown",
   "metadata": {},
   "source": [
    "Nu hebben we een lijst van bestanden, hier moeten we per subject, en dan per run iets uit gaan lezen, daarvoor gaan we eerst de lijst van bestanden in groepen opdelen"
   ]
  },
  {
   "cell_type": "code",
   "execution_count": 13,
   "metadata": {},
   "outputs": [
    {
     "name": "stdout",
     "output_type": "stream",
     "text": [
      "sub-01\n",
      "[['01', ['sub-01-run1-Putamen_19.txt', 'sub-01-run2-Putamen_19.txt', 'sub-01-run3-Putamen_19.txt']], ['02', ['sub-02-run1-Putamen_19.txt', 'sub-02-run2-Putamen_19.txt', 'sub-02-run3-Putamen_19.txt']]]\n"
     ]
    }
   ],
   "source": [
    "#testje\n",
    "firstFile = files[1]\n",
    "print(firstFile[0:6])\n",
    "#eerst groeperen we de lijst van bestanden per subject, lijkt lastig maar wat het doet is:\n",
    "#groeperen op de eerste 6 karakters van een bestandsnaam dit doet de groupby functie\n",
    "#dat levert twee dingen op, een key en een groep. De key is de eerste 6 karakters van een bestand (bv sub-01)\n",
    "#de group is de bestandsnamen die horen bij deze key (bv. ['sub-01-run1-Putamen_19.txt', 'sub-01-run2-Putamen_19.txt', 'sub-01-run3-Putamen_19.txt'])\n",
    "#nu slaan we in een nieuwe lijst deze keys en bijbehorende bestanden op\n",
    "groupedFiles=[[key[4:],list(group)] for key,group in groupby(files , lambda s : s[0:6])]\n",
    "print(groupedFiles)"
   ]
  },
  {
   "cell_type": "markdown",
   "metadata": {},
   "source": [
    "Nu we een gegroepeerde lijst hebben kunnen we per subject de data gaan ophalen. We beginnen met een test/voorbeeld van het eerste subject"
   ]
  },
  {
   "cell_type": "code",
   "execution_count": 143,
   "metadata": {},
   "outputs": [],
   "source": [
    "firstSubject = groupedFiles[0]\n",
    "#print(firstSubject)\n",
    "#haal de het ID en de bestanden voor het subject op\n",
    "subjectID = firstSubject[0]\n",
    "subjectFiles = firstSubject[1]\n",
    "#print(subjectFiles)\n",
    "#maak een dataframe voor het subject\n",
    "dataSub1 = pandas.DataFrame([[subjectID,x] for x in range(1,1411)],columns=[\"SubjectID\",\"Meetmoment\"])\n",
    "#print(dataSub1)\n",
    "\n",
    "#voor elk bestand van dit subject, haal de data op\n",
    "for file in subjectFiles:\n",
    "    #extraheer de run uit de fileName\n",
    "    run = file[7:11]\n",
    "    #print(run)\n",
    "    #maak de kolomnamen voor het dataframe, gebruik hiervoor run, we krijgen dan kolomnamen run1 en run1_sd, run2 en run2_sd etc\n",
    "    columnNames = [run,run+\"_sd\"]\n",
    "    #lees data van de schijf, geef het de juiste kolom namen\n",
    "    data = pandas.read_csv(folder/file,names=columnNames, sep=\" \",header=None, usecols=range(2))\n",
    "    #print(data.head())\n",
    "    #voeg de kolommen toe aan het dataframe van dit subject\n",
    "    dataSub1 = dataSub1.join(data)\n",
    "#het resultaat:\n",
    "#print(dataSub1)"
   ]
  },
  {
   "cell_type": "markdown",
   "metadata": {},
   "source": [
    "Nu we een test hebben uitgewerkt gaan we alle subjects inlezen!\n",
    "De eerste (buitenste) for loop gaat voor elk subject draaien, de binnenste loop is hetzelfde als de code hierboven. Aan het einde plakken we alles aan elkaar."
   ]
  },
  {
   "cell_type": "code",
   "execution_count": 26,
   "metadata": {},
   "outputs": [
    {
     "name": "stdout",
     "output_type": "stream",
     "text": [
      "  SubjectID  Meetmoment        run1    run1_sd        run2    run2_sd  \\\n",
      "0        01           1  976.455825  81.313032  976.455825  81.313032   \n",
      "1        01           2  981.037077  81.709665  981.037077  81.709665   \n",
      "2        01           3  984.095040  82.255164  984.095040  82.255164   \n",
      "3        01           4  981.028397  81.416820  981.028397  81.416820   \n",
      "4        01           5  986.560267  81.004929  986.560267  81.004929   \n",
      "\n",
      "         run3    run3_sd  \n",
      "0  976.455825  81.313032  \n",
      "1  981.037077  81.709665  \n",
      "2  984.095040  82.255164  \n",
      "3  981.028397  81.416820  \n",
      "4  986.560267  81.004929  \n",
      "  SubjectID  Meetmoment        run1    run1_sd        run2    run2_sd  \\\n",
      "0        02           1  976.455825  81.313032  976.455825  81.313032   \n",
      "1        02           2  981.037077  81.709665  981.037077  81.709665   \n",
      "2        02           3  984.095040  82.255164  984.095040  82.255164   \n",
      "3        02           4  981.028397  81.416820  981.028397  81.416820   \n",
      "4        02           5  986.560267  81.004929  986.560267  81.004929   \n",
      "\n",
      "         run3    run3_sd  \n",
      "0  976.455825  81.313032  \n",
      "1  981.037077  81.709665  \n",
      "2  984.095040  82.255164  \n",
      "3  981.028397  81.416820  \n",
      "4  986.560267  81.004929  \n"
     ]
    }
   ],
   "source": [
    "subjectDataFrames = []\n",
    "for subjectGroup in groupedFiles:\n",
    "    subjectID = subjectGroup[0]\n",
    "    subjectFiles = subjectGroup[1]\n",
    "    #check of er wel 3 bestanden zijn voor dit subject\n",
    "    assert len(subjectFiles) == 3, \"Niet het juiste aantal bestanden voor subject %r. We verwachten er 3, gevonden bestanden %r\" % (subjectID,subjectFiles)\n",
    "    #maak een dataframe voor het subject\n",
    "    dataSub = pandas.DataFrame([[subjectID,x] for x in range(1,1411)],columns=[\"SubjectID\",\"Meetmoment\"])\n",
    "    #voor elk bestand van dit subject, haal de data op\n",
    "    for file in subjectFiles:\n",
    "        #extraheer de run uit de fileName\n",
    "        run = file[7:11]\n",
    "        #maak de kolomnamen voor het dataframe, gebruik hiervoor run, we krijgen dan kolomnamen run1 en run1_sd, run2 en run2_sd etc\n",
    "        columnNames = [run,run+\"_sd\"]\n",
    "        #lees data van de schijf, geef het de juiste kolom namen\n",
    "        data = pandas.read_csv(folder/file,names=columnNames, sep=\" \",header=None, usecols=range(2))\n",
    "        #controleer lengte van het gelezen bestand\n",
    "        assert len(data.index) == 1410, \"Niet het juiste aantal rijen in %r, we vonden er %r maar verwachten er 1410\" % (file,len(data.index))\n",
    "        #voeg de kolommen toe aan het dataframe van dit subject\n",
    "        dataSub = dataSub.join(data)\n",
    "    #het resultaat:\n",
    "    print(dataSub.head())\n",
    "    subjectDataFrames.append(dataSub)\n",
    "assert len(subjectDataFrames) == len(groupedFiles), \"Het inlezen van bestanden is niet goed gegegaan, we hebben niet hetzelfde aantal dataframes (%r) als groepen bestanden (%r)\" % (len(subjectDataFrames),len(groupedFiles))\n",
    "allData = pandas.concat(subjectDataFrames,sort=False)\n",
    "#hernoem kolommen\n",
    "newColumnNames = {\"run1\" : \"water\", \"run2\" : \"suiker\", \"run3\" : \"vet\",\"run1_sd\" : \"water_sd\", \"run2_sd\" : \"suiker_sd\", \"run3_sd\" : \"vet_sd\"}\n",
    "allData = allData.rename(columns=newColumnNames)\n",
    "#schrijf data naar bestand alles.csv\n",
    "allData.to_csv(folder/\"alles.csv\", index=False, sep=';')"
   ]
  },
  {
   "cell_type": "code",
   "execution_count": null,
   "metadata": {},
   "outputs": [],
   "source": []
  }
 ],
 "metadata": {
  "kernelspec": {
   "display_name": "Python 3",
   "language": "python",
   "name": "python3"
  },
  "language_info": {
   "codemirror_mode": {
    "name": "ipython",
    "version": 3
   },
   "file_extension": ".py",
   "mimetype": "text/x-python",
   "name": "python",
   "nbconvert_exporter": "python",
   "pygments_lexer": "ipython3",
   "version": "3.6.7"
  }
 },
 "nbformat": 4,
 "nbformat_minor": 2
}
