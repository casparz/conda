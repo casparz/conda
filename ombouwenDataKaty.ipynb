{
 "cells": [
  {
   "cell_type": "markdown",
   "metadata": {},
   "source": [
    "Importeer alle libraries die nodig zijn"
   ]
  },
  {
   "cell_type": "code",
   "execution_count": 3,
   "metadata": {},
   "outputs": [],
   "source": [
    "from os import listdir\n",
    "from os.path import isfile\n",
    "from itertools import groupby\n",
    "import re, pathlib\n",
    "import pandas as pd"
   ]
  },
  {
   "cell_type": "markdown",
   "metadata": {},
   "source": [
    "### Laden van bestanden\n",
    "Haal alle bestanden op die verwerkt moeten worden. We gebruiken hiervoor een methode die \"list comprehension\" heet.\n",
    "Deze techniek maakt een nieuwe lijst uit een oud lijstje waarbij bepaalde checks en/of transformaties gedaan kunnen worden.\n",
    "In dit blok halen we alle elementen uit de \"Current Working Directory\" (Path.cwd()) en voert 2 checks uit. Namelijk:\n",
    "* Is het gevonden element een bestand: `isfile(folder/f)`\n",
    "* Voldoet het bestand aan de naamgeving-conventie, hierbij gebruiken we regex: `re.match(r'sub-[0-9]{2}-run[0-9]-Putamen_19.txt',f)`"
   ]
  },
  {
   "cell_type": "code",
   "execution_count": 5,
   "metadata": {},
   "outputs": [
    {
     "name": "stdout",
     "output_type": "stream",
     "text": [
      "['sub-01-run1-Putamen_19.txt', 'sub-01-run2-Putamen_19.txt', 'sub-01-run3-Putamen_19.txt', 'sub-02-run1-Putamen_19.txt', 'sub-02-run2-Putamen_19.txt', 'sub-02-run3-Putamen_19.txt']\n"
     ]
    }
   ],
   "source": [
    "#folder = pathlib.Path(r'C:\\Users\\Caspar\\Documents\\Prive')\n",
    "folder = pathlib.Path.cwd()\n",
    "\n",
    "files = [f for f in sorted(listdir(folder))\n",
    "         if isfile(folder/f)\n",
    "         and re.match(r'sub-[0-9]{2}-run[0-9]-Putamen_19.txt',f)\n",
    "        ]\n",
    "print(files)"
   ]
  },
  {
   "cell_type": "markdown",
   "metadata": {},
   "source": [
    "### Groeperen per subject\n",
    "Nu hebben we een lijst van bestanden, hier moeten we per subject, en dan per run iets uit gaan lezen, daarvoor gaan we eerst de lijst van bestanden in groepen opdelen.\n",
    "\n",
    "We groeperen de lijst van bestanden per subject, lijkt lastig maar wat het doet is:\n",
    "* groeperen op de eerste 6 karakters van een bestandsnaam dit doet de groupby functie\n",
    "* dat levert twee dingen op, een key en een groep. De key is de eerste 6 karakters van een bestand (bv sub-01)\n",
    "* de group is de bestandsnamen die horen bij deze key (bv. 'sub-01-run1-Putamen_19.txt', 'sub-01-run2-Putamen_19.txt', 'sub-01-run3-Putamen_19.txt')\n",
    "* nu slaan we in een nieuwe lijst deze keys en bijbehorende bestanden op\n",
    "\n",
    "Dat levert dus een lijst op met sub-lijstjes, waarbij die sublijstjes bestaan uit subject-nummer en een lijstje bestanden:\n",
    "\n",
    "`[ ['subID', ['bestand1','bestand2','bestand3']]\n",
    "   ['subID', ['bestand1','bestand2','bestand3']]\n",
    "   [...]\n",
    "]`"
   ]
  },
  {
   "cell_type": "code",
   "execution_count": 7,
   "metadata": {},
   "outputs": [
    {
     "name": "stdout",
     "output_type": "stream",
     "text": [
      "sub-01\n",
      "[['01', ['sub-01-run1-Putamen_19.txt', 'sub-01-run2-Putamen_19.txt', 'sub-01-run3-Putamen_19.txt']], ['02', ['sub-02-run1-Putamen_19.txt', 'sub-02-run2-Putamen_19.txt', 'sub-02-run3-Putamen_19.txt']]]\n"
     ]
    }
   ],
   "source": [
    "#testje\n",
    "firstFile = files[1]\n",
    "print(firstFile[0:6])\n",
    "groupedFiles=[[key[4:],list(group)]\n",
    "              for key,group in groupby(files , lambda s : s[0:6])\n",
    "             ]\n",
    "print(groupedFiles)"
   ]
  },
  {
   "cell_type": "markdown",
   "metadata": {},
   "source": [
    "### Test voor één subject\n",
    "Nu we een gegroepeerde lijst hebben kunnen we per subject de data gaan ophalen. We beginnen met een test/voorbeeld van het eerste subject. De stappen die we doorlopen zijn:\n",
    "1. Haal het subjectID op en de bijbehorende bestanden (regel 3-8)\n",
    "2. Maak een dataframe met 2 kolommen, één met subjectID en één met de meetmomenten (regel 10-11)\n",
    "3. Lees de 3 bestanden van het subject in naar een dataframe (regel 14-24), in substapjes\n",
    "   1. Knip de naam van de run uit het tekstbestand (regel 16)\n",
    "   2. Maak kolomnamen, data en data_sd (regel 19)\n",
    "   3. Lees bestand in naar datafram (regel 21)\n",
    "   4. Plak per bestand de gelezen data aan het dataframe met meetmomenten en subjectIDs, gemaakt in stap 2 (regel 24)\n",
    "\n",
    "*Deze stap voegt niets toe aan het resultaat van het script, het is enkel een demonstratie van wat er gebeurd per subject*\n"
   ]
  },
  {
   "cell_type": "code",
   "execution_count": 16,
   "metadata": {},
   "outputs": [],
   "source": [
    "#zet deze om naar True om output per stapje te hebben, als je dat niet wil zet je hem op False\n",
    "verbose=False\n",
    "firstSubject = groupedFiles[0]\n",
    "if verbose: print(firstSubject)\n",
    "#haal de het ID en de bestanden voor het subject op\n",
    "subjectID = firstSubject[0]\n",
    "subjectFiles = firstSubject[1]\n",
    "if verbose: print(subjectFiles)\n",
    "#maak een dataframe voor het subject\n",
    "dataSub1 = pd.DataFrame([[subjectID,x] for x in range(1,1411)],columns=[\"SubjectID\",\"Meetmoment\"])\n",
    "if verbose: print(dataSub1)\n",
    "\n",
    "#voor elk bestand van dit subject, haal de data op\n",
    "for file in subjectFiles:\n",
    "    #extraheer de run uit de fileName\n",
    "    run = file[7:11]\n",
    "    if verbose: print(run)\n",
    "    #maak de kolomnamen voor het dataframe, gebruik hiervoor run, we krijgen dan kolomnamen run1 en run1_sd, run2 en run2_sd etc\n",
    "    columnNames = [run,run+\"_sd\"]\n",
    "    #lees data van de schijf, geef het de juiste kolom namen\n",
    "    data = pd.read_csv(folder/file,names=columnNames, sep=\" \",header=None, usecols=range(2))\n",
    "    if verbose: print(data.head())\n",
    "    #voeg de kolommen toe aan het dataframe van dit subject\n",
    "    dataSub1 = dataSub1.join(data)\n",
    "#het resultaat:\n",
    "if verbose: print(dataSub1)"
   ]
  },
  {
   "cell_type": "markdown",
   "metadata": {},
   "source": [
    "### Uitvoeren voor alle subjects\n",
    "Nu we een test hebben uitgewerkt gaan we alle subjects inlezen!\n",
    "De eerste (buitenste) for loop gaat voor elk subject draaien, de binnenste loop is hetzelfde als de code hierboven. \n",
    "\n",
    "We hebben een aantal \"assert\" statements toegevoegd. Die controlern een aantal zaken, en geven een error als de check faalt:\n",
    "* Zijn er wel 3 bestanden per subject (regel 5-6)\n",
    "* Zijn er wel 1410 meetmomenten per bestand (regel 18-19)\n",
    "* Zijn er wel evenveel dataframes als er subjects zijn gevonden (regel 24-25)"
   ]
  },
  {
   "cell_type": "code",
   "execution_count": null,
   "metadata": {},
   "outputs": [],
   "source": [
    "subjectDataFrames = []\n",
    "for subjectGroup in groupedFiles:\n",
    "    subjectID = subjectGroup[0]\n",
    "    subjectFiles = subjectGroup[1]\n",
    "    assert len(subjectFiles) == 3, \"Niet het juiste aantal bestanden \"\\\n",
    "    \"voor subject %r. We verwachten er 3, gevonden bestanden %r\" % (subjectID,subjectFiles)\n",
    "    dataSub = pd.DataFrame([[subjectID,x] for x in range(1,1411)],columns=[\"SubjectID\",\"Meetmoment\"])\n",
    "    for file in subjectFiles:\n",
    "        run = file[7:11]\n",
    "        columnNames = [run,run+\"_sd\"]\n",
    "        data = pd.read_csv(folder/file,names=columnNames, sep=\" \",header=None, usecols=range(2))\n",
    "        assert len(data.index) == 1410, \"Niet het juiste aantal rijen \"\\\n",
    "        \"in %r, we vonden er %r maar verwachten er 1410\" % (file,len(data.index))\n",
    "        dataSub = dataSub.join(data)\n",
    "    subjectDataFrames.append(dataSub)\n",
    "\n",
    "assert len(subjectDataFrames) == len(groupedFiles), \"Het inlezen van bestanden is niet goed gegegaan, we hebben \"\\\n",
    "\"niet hetzelfde aantal dataframes (%r) als groepen bestanden (%r)\" % (len(subjectDataFrames),len(groupedFiles))\n"
   ]
  },
  {
   "cell_type": "markdown",
   "metadata": {},
   "source": [
    "### Schrijven van data\n",
    "Aan het einde plakken we alles aan elkaar, en schrijven we het naar een csv bestand. Hier kan nog gekozen worden om de seperator aan te passen."
   ]
  },
  {
   "cell_type": "code",
   "execution_count": 15,
   "metadata": {},
   "outputs": [],
   "source": [
    "#Plak alles aan elkaar\n",
    "allData = pd.concat(subjectDataFrames,sort=False)\n",
    "#hernoem kolommen\n",
    "newColumnNames = {\n",
    "    \"run1\" : \"water\",\n",
    "    \"run2\" : \"suiker\",\n",
    "    \"run3\" : \"vet\",\n",
    "    \"run1_sd\" : \"water_sd\",\n",
    "    \"run2_sd\" : \"suiker_sd\",\n",
    "    \"run3_sd\" : \"vet_sd\"\n",
    "}\n",
    "allData = allData.rename(columns=newColumnNames)\n",
    "#schrijf data naar bestand alles.csv\n",
    "allData.to_csv(folder/\"alles.csv\", index=False, sep=';')"
   ]
  }
 ],
 "metadata": {
  "kernelspec": {
   "display_name": "Python 3",
   "language": "python",
   "name": "python3"
  },
  "language_info": {
   "codemirror_mode": {
    "name": "ipython",
    "version": 3
   },
   "file_extension": ".py",
   "mimetype": "text/x-python",
   "name": "python",
   "nbconvert_exporter": "python",
   "pygments_lexer": "ipython3",
   "version": "3.7.3"
  }
 },
 "nbformat": 4,
 "nbformat_minor": 2
}
